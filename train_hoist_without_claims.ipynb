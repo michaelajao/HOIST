{
 "cells": [
  {
   "cell_type": "code",
   "execution_count": 1,
   "metadata": {},
   "outputs": [
    {
     "name": "stdout",
     "output_type": "stream",
     "text": [
      "device: cuda\n"
     ]
    }
   ],
   "source": [
    "import torch\n",
    "import numpy as np\n",
    "\n",
    "import random\n",
    "import os\n",
    "import pickle\n",
    "import matplotlib.pyplot as plt\n",
    "import copy\n",
    "\n",
    "\n",
    "def seed_torch(RANDOM_SEED=123):\n",
    "    random.seed(RANDOM_SEED)\n",
    "    os.environ['PYTHONHASHSEED'] = str(RANDOM_SEED)\n",
    "    np.random.seed(RANDOM_SEED)\n",
    "    torch.manual_seed(RANDOM_SEED)\n",
    "    torch.cuda.manual_seed(RANDOM_SEED)\n",
    "    torch.cuda.manual_seed_all(RANDOM_SEED)\n",
    "    torch.backends.cudnn.benchmark = False\n",
    "    torch.backends.cudnn.deterministic = True\n",
    "seed_torch()\n",
    "device = torch.device('cuda' if torch.cuda.is_available() else 'cpu')\n",
    "print('device:',device)\n",
    "\n",
    "from utils import generate_series, temporal_split\n",
    "from model import HOIST_without_claim\n",
    "from utils import mse,mae,r2,ccc\n"
   ]
  },
  {
   "cell_type": "code",
   "execution_count": 3,
   "metadata": {},
   "outputs": [],
   "source": [
    "mob_mat = pickle.load(open('./data/mob_mat.pkl', 'rb'))\n",
    "distance_mat = pickle.load(open('./data/distance_mat.pkl', 'rb'))\n",
    "covid_tensor = pickle.load(open('./data/covid_tensor.pkl', 'rb'))\n",
    "hospitalizations = pickle.load(open('./data/hospitalizations.pkl', 'rb'))\n",
    "hos_tensor = pickle.load(open('./data/hos_tensor.pkl', 'rb'))\n",
    "county_tensor = pickle.load(open('./data/county_tensor.pkl', 'rb'))\n",
    "feat_name = pickle.load(open('./data/feat_name.pkl', 'rb'))\n",
    "date_range = np.array(pickle.load(open('./data/date_range.pkl', 'rb')))"
   ]
  },
  {
   "cell_type": "code",
   "execution_count": 4,
   "metadata": {},
   "outputs": [
    {
     "name": "stdout",
     "output_type": "stream",
     "text": [
      "mob_mat shape: (2334, 2334)\n",
      "distance_mat shape: (2334, 2334)\n",
      "covid_tensor shape: (2334, 639)\n",
      "hospitalizations shape: (2334, 639)\n",
      "hos_tensor shape: (2334, 639, 4)\n",
      "county_tensor shape: (2334, 14)\n",
      "feat_name: {'hospitalization': ['inbeds', 'inbeds_covid', 'icu', 'icu_covid'], 'vaccination': ['1st', '2nd', 'bst', 'Pfizer_1', 'Pfizer_2', 'Pfizer_b', 'Moderna_1', 'Moderna_2', 'Moderna_b', 'Johnson_1', 'Johnson_b', 'PfizerTS_1', 'PfizerTS_2', 'PfizerTS_b', 'PfizerTS10_1', 'PfizerTS10_2'], 'claim': ['hospitalization', 'n_visits', 'age_cnt', 'Cerebrovascular Disease', 'Chronic Pulmonary Disease', 'Congestive Heart Failure', 'Dementia', 'Diabetes without chronic complication', 'HIV', 'Hemiplegia or Paraplegia', 'Hypertension', 'Immunodeficiency', 'Liver Disease', 'Malignancy', 'Metastatic Solid Tumor', 'Myocardial Infarction', 'Obesity', 'Peptic Ulcer Disease', 'Peripheral Vascular Disease', 'Renal'], 'county': ['pop', '0_17', '18_64', '65p', 'Black', 'White', 'Asian', 'Hispanic', 'Not_Hispanic', 'Physicians', 'Hospitals', 'ICU Beds', 'Income', 'Unemployment_rate'], 'date': ['2020-08-01', '2020-08-02', '2020-08-03', '2020-08-04', '2020-08-05', '2020-08-06', '2020-08-07', '2020-08-08', '2020-08-09', '2020-08-10', '2020-08-11', '2020-08-12', '2020-08-13', '2020-08-14', '2020-08-15', '2020-08-16', '2020-08-17', '2020-08-18', '2020-08-19', '2020-08-20', '2020-08-21', '2020-08-22', '2020-08-23', '2020-08-24', '2020-08-25', '2020-08-26', '2020-08-27', '2020-08-28', '2020-08-29', '2020-08-30', '2020-08-31', '2020-09-01', '2020-09-02', '2020-09-03', '2020-09-04', '2020-09-05', '2020-09-06', '2020-09-07', '2020-09-08', '2020-09-09', '2020-09-10', '2020-09-11', '2020-09-12', '2020-09-13', '2020-09-14', '2020-09-15', '2020-09-16', '2020-09-17', '2020-09-18', '2020-09-19', '2020-09-20', '2020-09-21', '2020-09-22', '2020-09-23', '2020-09-24', '2020-09-25', '2020-09-26', '2020-09-27', '2020-09-28', '2020-09-29', '2020-09-30', '2020-10-01', '2020-10-02', '2020-10-03', '2020-10-04', '2020-10-05', '2020-10-06', '2020-10-07', '2020-10-08', '2020-10-09', '2020-10-10', '2020-10-11', '2020-10-12', '2020-10-13', '2020-10-14', '2020-10-15', '2020-10-16', '2020-10-17', '2020-10-18', '2020-10-19', '2020-10-20', '2020-10-21', '2020-10-22', '2020-10-23', '2020-10-24', '2020-10-25', '2020-10-26', '2020-10-27', '2020-10-28', '2020-10-29', '2020-10-30', '2020-10-31', '2020-11-01', '2020-11-02', '2020-11-03', '2020-11-04', '2020-11-05', '2020-11-06', '2020-11-07', '2020-11-08', '2020-11-09', '2020-11-10', '2020-11-11', '2020-11-12', '2020-11-13', '2020-11-14', '2020-11-15', '2020-11-16', '2020-11-17', '2020-11-18', '2020-11-19', '2020-11-20', '2020-11-21', '2020-11-22', '2020-11-23', '2020-11-24', '2020-11-25', '2020-11-26', '2020-11-27', '2020-11-28', '2020-11-29', '2020-11-30', '2020-12-01', '2020-12-02', '2020-12-03', '2020-12-04', '2020-12-05', '2020-12-06', '2020-12-07', '2020-12-08', '2020-12-09', '2020-12-10', '2020-12-11', '2020-12-12', '2020-12-13', '2020-12-14', '2020-12-15', '2020-12-16', '2020-12-17', '2020-12-18', '2020-12-19', '2020-12-20', '2020-12-21', '2020-12-22', '2020-12-23', '2020-12-24', '2020-12-25', '2020-12-26', '2020-12-27', '2020-12-28', '2020-12-29', '2020-12-30', '2020-12-31', '2021-01-01', '2021-01-02', '2021-01-03', '2021-01-04', '2021-01-05', '2021-01-06', '2021-01-07', '2021-01-08', '2021-01-09', '2021-01-10', '2021-01-11', '2021-01-12', '2021-01-13', '2021-01-14', '2021-01-15', '2021-01-16', '2021-01-17', '2021-01-18', '2021-01-19', '2021-01-20', '2021-01-21', '2021-01-22', '2021-01-23', '2021-01-24', '2021-01-25', '2021-01-26', '2021-01-27', '2021-01-28', '2021-01-29', '2021-01-30', '2021-01-31', '2021-02-01', '2021-02-02', '2021-02-03', '2021-02-04', '2021-02-05', '2021-02-06', '2021-02-07', '2021-02-08', '2021-02-09', '2021-02-10', '2021-02-11', '2021-02-12', '2021-02-13', '2021-02-14', '2021-02-15', '2021-02-16', '2021-02-17', '2021-02-18', '2021-02-19', '2021-02-20', '2021-02-21', '2021-02-22', '2021-02-23', '2021-02-24', '2021-02-25', '2021-02-26', '2021-02-27', '2021-02-28', '2021-03-01', '2021-03-02', '2021-03-03', '2021-03-04', '2021-03-05', '2021-03-06', '2021-03-07', '2021-03-08', '2021-03-09', '2021-03-10', '2021-03-11', '2021-03-12', '2021-03-13', '2021-03-14', '2021-03-15', '2021-03-16', '2021-03-17', '2021-03-18', '2021-03-19', '2021-03-20', '2021-03-21', '2021-03-22', '2021-03-23', '2021-03-24', '2021-03-25', '2021-03-26', '2021-03-27', '2021-03-28', '2021-03-29', '2021-03-30', '2021-03-31', '2021-04-01', '2021-04-02', '2021-04-03', '2021-04-04', '2021-04-05', '2021-04-06', '2021-04-07', '2021-04-08', '2021-04-09', '2021-04-10', '2021-04-11', '2021-04-12', '2021-04-13', '2021-04-14', '2021-04-15', '2021-04-16', '2021-04-17', '2021-04-18', '2021-04-19', '2021-04-20', '2021-04-21', '2021-04-22', '2021-04-23', '2021-04-24', '2021-04-25', '2021-04-26', '2021-04-27', '2021-04-28', '2021-04-29', '2021-04-30', '2021-05-01', '2021-05-02', '2021-05-03', '2021-05-04', '2021-05-05', '2021-05-06', '2021-05-07', '2021-05-08', '2021-05-09', '2021-05-10', '2021-05-11', '2021-05-12', '2021-05-13', '2021-05-14', '2021-05-15', '2021-05-16', '2021-05-17', '2021-05-18', '2021-05-19', '2021-05-20', '2021-05-21', '2021-05-22', '2021-05-23', '2021-05-24', '2021-05-25', '2021-05-26', '2021-05-27', '2021-05-28', '2021-05-29', '2021-05-30', '2021-05-31', '2021-06-01', '2021-06-02', '2021-06-03', '2021-06-04', '2021-06-05', '2021-06-06', '2021-06-07', '2021-06-08', '2021-06-09', '2021-06-10', '2021-06-11', '2021-06-12', '2021-06-13', '2021-06-14', '2021-06-15', '2021-06-16', '2021-06-17', '2021-06-18', '2021-06-19', '2021-06-20', '2021-06-21', '2021-06-22', '2021-06-23', '2021-06-24', '2021-06-25', '2021-06-26', '2021-06-27', '2021-06-28', '2021-06-29', '2021-06-30', '2021-07-01', '2021-07-02', '2021-07-03', '2021-07-04', '2021-07-05', '2021-07-06', '2021-07-07', '2021-07-08', '2021-07-09', '2021-07-10', '2021-07-11', '2021-07-12', '2021-07-13', '2021-07-14', '2021-07-15', '2021-07-16', '2021-07-17', '2021-07-18', '2021-07-19', '2021-07-20', '2021-07-21', '2021-07-22', '2021-07-23', '2021-07-24', '2021-07-25', '2021-07-26', '2021-07-27', '2021-07-28', '2021-07-29', '2021-07-30', '2021-07-31', '2021-08-01', '2021-08-02', '2021-08-03', '2021-08-04', '2021-08-05', '2021-08-06', '2021-08-07', '2021-08-08', '2021-08-09', '2021-08-10', '2021-08-11', '2021-08-12', '2021-08-13', '2021-08-14', '2021-08-15', '2021-08-16', '2021-08-17', '2021-08-18', '2021-08-19', '2021-08-20', '2021-08-21', '2021-08-22', '2021-08-23', '2021-08-24', '2021-08-25', '2021-08-26', '2021-08-27', '2021-08-28', '2021-08-29', '2021-08-30', '2021-08-31', '2021-09-01', '2021-09-02', '2021-09-03', '2021-09-04', '2021-09-05', '2021-09-06', '2021-09-07', '2021-09-08', '2021-09-09', '2021-09-10', '2021-09-11', '2021-09-12', '2021-09-13', '2021-09-14', '2021-09-15', '2021-09-16', '2021-09-17', '2021-09-18', '2021-09-19', '2021-09-20', '2021-09-21', '2021-09-22', '2021-09-23', '2021-09-24', '2021-09-25', '2021-09-26', '2021-09-27', '2021-09-28', '2021-09-29', '2021-09-30', '2021-10-01', '2021-10-02', '2021-10-03', '2021-10-04', '2021-10-05', '2021-10-06', '2021-10-07', '2021-10-08', '2021-10-09', '2021-10-10', '2021-10-11', '2021-10-12', '2021-10-13', '2021-10-14', '2021-10-15', '2021-10-16', '2021-10-17', '2021-10-18', '2021-10-19', '2021-10-20', '2021-10-21', '2021-10-22', '2021-10-23', '2021-10-24', '2021-10-25', '2021-10-26', '2021-10-27', '2021-10-28', '2021-10-29', '2021-10-30', '2021-10-31', '2021-11-01', '2021-11-02', '2021-11-03', '2021-11-04', '2021-11-05', '2021-11-06', '2021-11-07', '2021-11-08', '2021-11-09', '2021-11-10', '2021-11-11', '2021-11-12', '2021-11-13', '2021-11-14', '2021-11-15', '2021-11-16', '2021-11-17', '2021-11-18', '2021-11-19', '2021-11-20', '2021-11-21', '2021-11-22', '2021-11-23', '2021-11-24', '2021-11-25', '2021-11-26', '2021-11-27', '2021-11-28', '2021-11-29', '2021-11-30', '2021-12-01', '2021-12-02', '2021-12-03', '2021-12-04', '2021-12-05', '2021-12-06', '2021-12-07', '2021-12-08', '2021-12-09', '2021-12-10', '2021-12-11', '2021-12-12', '2021-12-13', '2021-12-14', '2021-12-15', '2021-12-16', '2021-12-17', '2021-12-18', '2021-12-19', '2021-12-20', '2021-12-21', '2021-12-22', '2021-12-23', '2021-12-24', '2021-12-25', '2021-12-26', '2021-12-27', '2021-12-28', '2021-12-29', '2021-12-30', '2021-12-31', '2022-01-01', '2022-01-02', '2022-01-03', '2022-01-04', '2022-01-05', '2022-01-06', '2022-01-07', '2022-01-08', '2022-01-09', '2022-01-10', '2022-01-11', '2022-01-12', '2022-01-13', '2022-01-14', '2022-01-15', '2022-01-16', '2022-01-17', '2022-01-18', '2022-01-19', '2022-01-20', '2022-01-21', '2022-01-22', '2022-01-23', '2022-01-24', '2022-01-25', '2022-01-26', '2022-01-27', '2022-01-28', '2022-01-29', '2022-01-30', '2022-01-31', '2022-02-01', '2022-02-02', '2022-02-03', '2022-02-04', '2022-02-05', '2022-02-06', '2022-02-07', '2022-02-08', '2022-02-09', '2022-02-10', '2022-02-11', '2022-02-12', '2022-02-13', '2022-02-14', '2022-02-15', '2022-02-16', '2022-02-17', '2022-02-18', '2022-02-19', '2022-02-20', '2022-02-21', '2022-02-22', '2022-02-23', '2022-02-24', '2022-02-25', '2022-02-26', '2022-02-27', '2022-02-28', '2022-03-01', '2022-03-02', '2022-03-03', '2022-03-04', '2022-03-05', '2022-03-06', '2022-03-07', '2022-03-08', '2022-03-09', '2022-03-10', '2022-03-11', '2022-03-12', '2022-03-13', '2022-03-14', '2022-03-15', '2022-03-16', '2022-03-17', '2022-03-18', '2022-03-19', '2022-03-20', '2022-03-21', '2022-03-22', '2022-03-23', '2022-03-24', '2022-03-25', '2022-03-26', '2022-03-27', '2022-03-28', '2022-03-29', '2022-03-30', '2022-03-31', '2022-04-01', '2022-04-02', '2022-04-03', '2022-04-04', '2022-04-05', '2022-04-06', '2022-04-07', '2022-04-08', '2022-04-09', '2022-04-10', '2022-04-11', '2022-04-12', '2022-04-13', '2022-04-14', '2022-04-15', '2022-04-16', '2022-04-17', '2022-04-18', '2022-04-19', '2022-04-20', '2022-04-21', '2022-04-22', '2022-04-23', '2022-04-24', '2022-04-25', '2022-04-26', '2022-04-27', '2022-04-28', '2022-04-29', '2022-04-30', '2022-05-01']}\n",
      "date_range shape: (639,)\n"
     ]
    }
   ],
   "source": [
    "print(\"mob_mat shape:\", mob_mat.shape)\n",
    "print(\"distance_mat shape:\", distance_mat.shape)\n",
    "print(\"covid_tensor shape:\", covid_tensor.shape)\n",
    "print(\"hospitalizations shape:\", hospitalizations.shape)\n",
    "print(\"hos_tensor shape:\", hos_tensor.shape)\n",
    "print(\"county_tensor shape:\", county_tensor.shape)\n",
    "print(\"feat_name:\", feat_name)\n",
    "print(\"date_range shape:\", date_range.shape)\n"
   ]
  },
  {
   "cell_type": "code",
   "execution_count": 5,
   "metadata": {},
   "outputs": [],
   "source": [
    "# Align regions across datasets\n",
    "# Find common regions across datasets\n",
    "regions_covid = set(range(covid_tensor.shape[0]))\n"
   ]
  },
  {
   "cell_type": "code",
   "execution_count": 6,
   "metadata": {},
   "outputs": [],
   "source": [
    "regions_static = set(range(county_tensor.shape[0]))"
   ]
  },
  {
   "cell_type": "code",
   "execution_count": 7,
   "metadata": {},
   "outputs": [
    {
     "name": "stdout",
     "output_type": "stream",
     "text": [
      "hospitalizations shape:  (2334, 639)\n"
     ]
    }
   ],
   "source": [
    "print(\"hospitalizations shape: \", hospitalizations.shape)"
   ]
  },
  {
   "cell_type": "code",
   "execution_count": 8,
   "metadata": {},
   "outputs": [
    {
     "name": "stdout",
     "output_type": "stream",
     "text": [
      "hos_tensor shape:  (2334, 639, 4)\n"
     ]
    }
   ],
   "source": [
    "print(\"hos_tensor shape: \", hos_tensor.shape)"
   ]
  },
  {
   "cell_type": "markdown",
   "metadata": {},
   "source": [
    "# Temporal split"
   ]
  },
  {
   "cell_type": "code",
   "execution_count": 9,
   "metadata": {},
   "outputs": [
    {
     "name": "stdout",
     "output_type": "stream",
     "text": [
      "2299\n",
      "train_x shape: (2299, 13, 5)\n",
      "train_y shape: (2299, 13)\n",
      "val_x shape: (2299, 4, 5)\n",
      "val_y shape: (2299, 4)\n"
     ]
    }
   ],
   "source": [
    "covid_tensor = np.expand_dims(covid_tensor, axis=2)\n",
    "X = np.concatenate([covid_tensor, hos_tensor], axis=2)\n",
    "y = hospitalizations\n",
    "X, y = generate_series(X, y, window_size=35, pred_size=28)\n",
    "date_idx = np.expand_dims(date_range, axis=0)\n",
    "date_idx = np.expand_dims(date_idx, axis=2)\n",
    "date_idx, _ = generate_series(date_idx, y, window_size=35, pred_size=28, date=True)\n",
    "\n",
    "range_idx = (y.mean(1)>0)\n",
    "county_tensor = county_tensor[range_idx]\n",
    "y = y[range_idx]\n",
    "X = X[range_idx]\n",
    "print(len(y))\n",
    "mob_mat = mob_mat[range_idx, :][:, range_idx]\n",
    "distance_mat = distance_mat[range_idx, :][:, range_idx]\n",
    "\n",
    "y = np.log(y+1)\n",
    "train_x, val_x, test_x, train_y, val_y, test_y, train_idx, val_idx, test_idx, static, mats, normalize_dict, shuffle_idx = temporal_split(X, y, county_tensor, [mob_mat, distance_mat], 0.2, 0.2, norm='min-max', norm_mat=True)\n",
    "\n",
    "norm_mob = mats[0]\n",
    "norm_dist = mats[1]\n",
    "\n",
    "# print the shape of the training data\n",
    "print(\"train_x shape:\", train_x.shape)\n",
    "print(\"train_y shape:\", train_y.shape)\n",
    "print(\"val_x shape:\", val_x.shape)\n",
    "print(\"val_y shape:\", val_y.shape)\n"
   ]
  },
  {
   "cell_type": "code",
   "execution_count": 10,
   "metadata": {},
   "outputs": [
    {
     "name": "stdout",
     "output_type": "stream",
     "text": [
      "Epoch: 0, Train Loss: 1.9760, Val Loss: 0.8685, MSE: 5.91, MAE: 2.06\n",
      "Epoch: 100, Train Loss: 1.0821, Val Loss: 0.2432, MSE: 1.66, MAE: 1.00\n",
      "Epoch: 200, Train Loss: 1.0708, Val Loss: 0.2465, MSE: 1.68, MAE: 1.00\n",
      "Best Epoch: 92, Test MSE: 1.90, MAE: 1.08, R2: 0.73, CCC: 0.87\n",
      "Epoch: 0, Train Loss: 1.9757, Val Loss: 0.9133, MSE: 6.22, MAE: 2.12\n",
      "Epoch: 100, Train Loss: 1.0910, Val Loss: 0.2588, MSE: 1.76, MAE: 1.03\n",
      "Epoch: 200, Train Loss: 1.0796, Val Loss: 0.2520, MSE: 1.72, MAE: 1.01\n",
      "Best Epoch: 174, Test MSE: 1.92, MAE: 1.08, R2: 0.72, CCC: 0.87\n",
      "Epoch: 0, Train Loss: 1.9735, Val Loss: 0.8579, MSE: 5.84, MAE: 2.05\n",
      "Epoch: 100, Train Loss: 1.0910, Val Loss: 0.2436, MSE: 1.66, MAE: 1.00\n",
      "Epoch: 200, Train Loss: 1.0805, Val Loss: 0.2613, MSE: 1.78, MAE: 1.04\n",
      "Best Epoch: 105, Test MSE: 1.89, MAE: 1.08, R2: 0.73, CCC: 0.87\n",
      "Epoch: 0, Train Loss: 1.9350, Val Loss: 0.8635, MSE: 5.88, MAE: 2.06\n",
      "Epoch: 100, Train Loss: 1.0800, Val Loss: 0.2429, MSE: 1.65, MAE: 1.00\n",
      "Epoch: 200, Train Loss: 1.0635, Val Loss: 0.2687, MSE: 1.83, MAE: 1.04\n",
      "Best Epoch: 84, Test MSE: 1.87, MAE: 1.08, R2: 0.73, CCC: 0.87\n",
      "Epoch: 0, Train Loss: 1.9877, Val Loss: 0.9075, MSE: 6.18, MAE: 2.11\n",
      "Epoch: 100, Train Loss: 1.0959, Val Loss: 0.2423, MSE: 1.65, MAE: 0.99\n",
      "Epoch: 200, Train Loss: 1.0820, Val Loss: 0.2423, MSE: 1.65, MAE: 0.99\n",
      "Best Epoch: 125, Test MSE: 1.91, MAE: 1.08, R2: 0.73, CCC: 0.87\n"
     ]
    }
   ],
   "source": [
    "mae_ = []\n",
    "mae_exp = []\n",
    "mse_ = []\n",
    "mse_exp = []\n",
    "r2_ = []\n",
    "r2_exp = []\n",
    "ccc_ = []\n",
    "ccc_exp = []\n",
    "\n",
    "runs = 5\n",
    "for k in range(runs):\n",
    "    seed_torch(k)\n",
    "    model = HOIST_without_claim(5, [4,5,5], 128, device).to(device)\n",
    "    optimizer = torch.optim.Adam(model.parameters(), lr=1e-2)\n",
    "    loss_fn = torch.nn.MSELoss(reduction='none')\n",
    "\n",
    "    epoch = 300\n",
    "    batch_size = 128\n",
    "    min_loss = 1e99\n",
    "    min_epoch = 0\n",
    "\n",
    "    for i in range(epoch):\n",
    "        epoch_loss = []\n",
    "        val_loss = []\n",
    "        model.train()\n",
    "        for j in range((len(test_x)//batch_size)+1):\n",
    "            batch_x = train_x[j*batch_size:(j+1)*batch_size]\n",
    "            batch_y = train_y[j*batch_size:(j+1)*batch_size]\n",
    "            batch_x = torch.tensor(batch_x).float().to(device)\n",
    "            batch_y = torch.tensor(batch_y).float().to(device).unsqueeze(-1)\n",
    "            batch_static = torch.tensor(static[j*batch_size:(j+1)*batch_size]).float().to(device)\n",
    "            batch_mob = torch.tensor(norm_mob[j*batch_size:(j+1)*batch_size,:][:,j*batch_size:(j+1)*batch_size]).float().to(device)\n",
    "            batch_dist = torch.tensor(norm_dist[j*batch_size:(j+1)*batch_size,:][:,j*batch_size:(j+1)*batch_size]).float().to(device)\n",
    "            batch_mat = torch.cat([batch_mob.unsqueeze(-1), batch_dist.unsqueeze(-1)], dim=2)\n",
    "            cur_static = [batch_static[:, :4], batch_static[:, 4:9], batch_static[:, 9:14], batch_mat]\n",
    "            \n",
    "            optimizer.zero_grad()\n",
    "            output, _ = model(batch_x, cur_static)\n",
    "            \n",
    "            N, T, F = batch_y.shape\n",
    "            dist = _[0]\n",
    "            weights = _[1]\n",
    "            y_p = (weights * batch_x).sum(-1).reshape(N,T,1)*output.detach()\n",
    "            y_pi = y_p.reshape(N,1,T)\n",
    "            y_pj = y_p.reshape(1,N,T)\n",
    "            y_k = ((y_pi * y_pj) * dist.reshape(N,N,1)).sum(1).reshape(N,T,1)\n",
    "            ising_loss = loss_fn(y_p+y_k, batch_y).mean(1).mean()\n",
    "            \n",
    "            loss = loss_fn(output, batch_y).mean(1).mean() + ising_loss\n",
    "            loss.backward()\n",
    "            optimizer.step()\n",
    "            epoch_loss.append(loss.item())\n",
    "        \n",
    "        model.eval()\n",
    "        y_pred = []\n",
    "        y_true = []\n",
    "        with torch.no_grad():\n",
    "            for j in range((len(test_x)//batch_size)+1):\n",
    "                batch_x = val_x[j*batch_size:(j+1)*batch_size]\n",
    "                batch_y = val_y[j*batch_size:(j+1)*batch_size]\n",
    "                batch_x = torch.tensor(batch_x).float().to(device)\n",
    "                batch_y = torch.tensor(batch_y).float().to(device).unsqueeze(-1)\n",
    "                batch_static = torch.tensor(static[j*batch_size:(j+1)*batch_size]).float().to(device)\n",
    "                batch_mob = torch.tensor(norm_mob[j*batch_size:(j+1)*batch_size,:][:,j*batch_size:(j+1)*batch_size]).float().to(device)\n",
    "                batch_dist = torch.tensor(norm_dist[j*batch_size:(j+1)*batch_size,:][:,j*batch_size:(j+1)*batch_size]).float().to(device)\n",
    "                batch_mat = torch.cat([batch_mob.unsqueeze(-1), batch_dist.unsqueeze(-1)], dim=2)\n",
    "                cur_static = [batch_static[:, :4], batch_static[:, 4:9], batch_static[:, 9:14], batch_mat]\n",
    "                \n",
    "                output, _ = model(batch_x, cur_static)\n",
    "                loss = loss_fn(output, batch_y).mean(1).mean()\n",
    "                y_pred += list(output.squeeze().cpu().detach().numpy())\n",
    "                y_true += list(batch_y.squeeze().cpu().detach().numpy())\n",
    "                val_loss.append(loss.item())\n",
    "        y_pred = np.array(y_pred)\n",
    "        y_true = np.array(y_true)\n",
    "        norm_pred = (y_pred * normalize_dict['y'][1]) + normalize_dict['y'][0]\n",
    "        norm_true = (y_true * normalize_dict['y'][1]) + normalize_dict['y'][0]\n",
    "        \n",
    "        cur_mse = mse(norm_true, norm_pred)\n",
    "        cur_mae = mae(norm_true, norm_pred)\n",
    "        if i % 100 == 0:\n",
    "            print('Epoch: %d, Train Loss: %.4f, Val Loss: %.4f, MSE: %.2f, MAE: %.2f'%(i, np.mean(epoch_loss), np.mean(val_loss), cur_mse, cur_mae))\n",
    "        if cur_mae < min_loss:\n",
    "            min_loss = cur_mae\n",
    "            min_epoch = i\n",
    "            torch.save(model.state_dict(), './model/hoist_%d.pth'%k)\n",
    "            \n",
    "    y_pred = []\n",
    "    y_true = []\n",
    "    weight_score = []\n",
    "    batch_size = 128\n",
    "    #Load state dict\n",
    "    model.load_state_dict(torch.load('./model/hoist_%d.pth'%k))\n",
    "    model.eval()\n",
    "\n",
    "    for j in range((len(test_x)//batch_size)+1):\n",
    "        batch_x = test_x[j*batch_size:(j+1)*batch_size]\n",
    "        batch_y = test_y[j*batch_size:(j+1)*batch_size]\n",
    "        batch_x = torch.tensor(batch_x).float().to(device)\n",
    "        batch_y = torch.tensor(batch_y).float().to(device).unsqueeze(-1)\n",
    "        batch_static = torch.tensor(static[j*batch_size:(j+1)*batch_size]).float().to(device)\n",
    "        batch_mob = torch.tensor(norm_mob[j*batch_size:(j+1)*batch_size,:][:,j*batch_size:(j+1)*batch_size]).float().to(device)\n",
    "        batch_dist = torch.tensor(norm_dist[j*batch_size:(j+1)*batch_size,:][:,j*batch_size:(j+1)*batch_size]).float().to(device)\n",
    "        batch_mat = torch.cat([batch_mob.unsqueeze(-1), batch_dist.unsqueeze(-1)], dim=2)\n",
    "        cur_static = [batch_static[:, :4], batch_static[:, 4:9], batch_static[:, 9:14], batch_mat]\n",
    "        output, _ = model(batch_x, cur_static)\n",
    "        \n",
    "        y_pred += list(output.squeeze().cpu().detach().numpy())\n",
    "        y_true += list(batch_y.squeeze().cpu().detach().numpy())\n",
    "        weight_score += list(_[1].squeeze().cpu().detach().numpy())\n",
    "    y_pred = np.array(y_pred)\n",
    "    y_true = np.array(y_true)\n",
    "    weight_score = np.array(weight_score)\n",
    "\n",
    "\n",
    "    norm_pred = (y_pred * normalize_dict['y'][1]) + normalize_dict['y'][0]\n",
    "    norm_true = (y_true * normalize_dict['y'][1]) + normalize_dict['y'][0]\n",
    "    \n",
    "    print('Best Epoch: %d, Test MSE: %.2f, MAE: %.2f, R2: %.2f, CCC: %.2f'%(min_epoch, mse(norm_true, norm_pred), mae(norm_true, norm_pred), r2(norm_true, norm_pred), ccc(norm_true, norm_pred)))\n",
    "    mae_.append(mae(norm_true, norm_pred))\n",
    "    mae_exp.append(mae(np.exp(norm_true), np.exp(norm_pred)))\n",
    "    mse_.append(mse(norm_true, norm_pred))\n",
    "    mse_exp.append(mse(np.exp(norm_true), np.exp(norm_pred)))\n",
    "    r2_.append(r2(norm_true, norm_pred))\n",
    "    r2_exp.append(r2(np.exp(norm_true), np.exp(norm_pred)))\n",
    "    ccc_.append(ccc(norm_true, norm_pred))\n",
    "    ccc_exp.append(ccc(np.exp(norm_true), np.exp(norm_pred)))"
   ]
  },
  {
   "cell_type": "code",
   "execution_count": 11,
   "metadata": {},
   "outputs": [
    {
     "name": "stdout",
     "output_type": "stream",
     "text": [
      "1.8987061 0.019217249\n",
      "6811341.0 2027739.1\n",
      "1.0797278 0.0028859947\n",
      "614.2911 88.46489\n",
      "0.7271939635276794 0.002738882621223715\n",
      "0.4928076684474945 0.1761980838343089\n",
      "0.8687882773864812 0.0017405191077176434\n",
      "0.7790053094829344 0.037898322396380156\n"
     ]
    }
   ],
   "source": [
    "print(np.mean(mse_), np.std(mse_))\n",
    "print(np.mean(mse_exp), np.std(mse_exp))\n",
    "print(np.mean(mae_), np.std(mae_))\n",
    "print(np.mean(mae_exp), np.std(mae_exp))\n",
    "print(np.mean(r2_), np.std(r2_))\n",
    "print(np.mean(r2_exp), np.std(r2_exp))\n",
    "print(np.mean(ccc_), np.std(ccc_))\n",
    "print(np.mean(ccc_exp), np.std(ccc_exp))"
   ]
  },
  {
   "cell_type": "code",
   "execution_count": null,
   "metadata": {},
   "outputs": [],
   "source": []
  }
 ],
 "metadata": {
  "kernelspec": {
   "display_name": "icu-demand-forecasting",
   "language": "python",
   "name": "python3"
  },
  "language_info": {
   "codemirror_mode": {
    "name": "ipython",
    "version": 3
   },
   "file_extension": ".py",
   "mimetype": "text/x-python",
   "name": "python",
   "nbconvert_exporter": "python",
   "pygments_lexer": "ipython3",
   "version": "3.9.20"
  },
  "orig_nbformat": 4
 },
 "nbformat": 4,
 "nbformat_minor": 2
}
